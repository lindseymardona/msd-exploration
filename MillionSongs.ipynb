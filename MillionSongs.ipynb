{
 "cells": [
  {
   "cell_type": "code",
   "execution_count": 1,
   "id": "beafa1e2",
   "metadata": {},
   "outputs": [],
   "source": [
    "import pandas as pd\n",
    "        \n",
    "url = \"https://raw.githubusercontent.com/lindseymardona/song-year-prediction/main/SongCSV.csv\"\n",
    "msd = pd.read_csv(url)"
   ]
  },
  {
   "cell_type": "markdown",
   "id": "d1323292",
   "metadata": {},
   "source": [
    "**Data Cleaning: Pt. 1**\n",
    "- Rename Song Hotness column\n",
    "- Remove columns we will not be examining"
   ]
  },
  {
   "cell_type": "code",
   "execution_count": 2,
   "id": "5d1ea1fa",
   "metadata": {},
   "outputs": [],
   "source": [
    "msd = msd.rename(columns = {\"song_hotttnesss\" : \"SongHotness\"})\n",
    "msd.drop(msd.columns[[5, 6, 7, 9, 12, 15]], axis=1, inplace = True) # removes the columns we aren't concerned about"
   ]
  },
  {
   "cell_type": "markdown",
   "id": "e8e4a237",
   "metadata": {},
   "source": [
    "**Data Cleaning: Pt. 2**\n",
    "- Remove leading \"b\"s, \"'\"s, and \"\"\"s in string columns\n",
    "- Remove trailing \"'\"s and \"\"\"s in string columns"
   ]
  },
  {
   "cell_type": "code",
   "execution_count": 3,
   "id": "8e47ed0d",
   "metadata": {},
   "outputs": [],
   "source": [
    "def cleanStrings(col):\n",
    "    '''\n",
    "    Removes leading \"b\"s, \"\"\"s, and \"'\"s from all the strings in\n",
    "    a dataframe column, as well as trailing \"\"\"s and \"'\"s. \n",
    "    Args: col, a column from a dataframe, represented as a list.\n",
    "    Returns: col, the cleaned & modified column.\n",
    "    '''\n",
    "    toClean = ['\\'', '\\\"'] # unwanted leading & trailing characters\n",
    "    index = 0\n",
    "    while index < len(col): # goes through each list item\n",
    "        item = col[index]\n",
    "        cleaned = False\n",
    "        \n",
    "        while cleaned == False: # checks beginning & end of string\n",
    "            if not item: # some strings are empty after cleaning\n",
    "                cleaned = True \n",
    "            elif item[0] in toClean or item[0] == 'b':\n",
    "                item = item[1:]\n",
    "            elif item[-1] in toClean:\n",
    "                item = item[:-1]\n",
    "            else:\n",
    "                cleaned = True\n",
    "                \n",
    "        col[index] = item\n",
    "                \n",
    "        index += 1\n",
    "        \n",
    "    return col"
   ]
  },
  {
   "cell_type": "code",
   "execution_count": 4,
   "id": "f2667244",
   "metadata": {
    "scrolled": true
   },
   "outputs": [
    {
     "name": "stderr",
     "output_type": "stream",
     "text": [
      "C:\\Users\\linds\\AppData\\Local\\Temp/ipykernel_15928/3547290654.py:24: SettingWithCopyWarning: \n",
      "A value is trying to be set on a copy of a slice from a DataFrame\n",
      "\n",
      "See the caveats in the documentation: https://pandas.pydata.org/pandas-docs/stable/user_guide/indexing.html#returning-a-view-versus-a-copy\n",
      "  col[index] = item\n"
     ]
    }
   ],
   "source": [
    "stringCols = ['SongID', 'AlbumName', 'ArtistID', 'ArtistName', 'Title'] \n",
    "for col in stringCols:\n",
    "    msd[col].dropna()\n",
    "    col = cleanStrings(msd[col])"
   ]
  },
  {
   "cell_type": "markdown",
   "id": "714f7a16",
   "metadata": {},
   "source": [
    "**Data Cleaning: Pt. 3**\n",
    "- Drop rows containing alphabet letters not belonging to the English alphabet"
   ]
  },
  {
   "cell_type": "code",
   "execution_count": 5,
   "id": "4703d111",
   "metadata": {},
   "outputs": [],
   "source": [
    "stringCols = ['AlbumName', 'ArtistName', 'Title']\n",
    "for item in stringCols:\n",
    "    msd = msd[msd[item].str.contains(\"\\\\\", regex = False) == False]"
   ]
  },
  {
   "cell_type": "code",
   "execution_count": 6,
   "id": "590199df",
   "metadata": {},
   "outputs": [],
   "source": [
    "# Save file as new .csv file to avoid recleaning the dataframe every time\n",
    "file_path = r'C:\\Users\\linds\\Documents\\pic 16a\\final\\msd_cleaned.csv'\n",
    "msd.to_csv(file_path, encoding='utf-8', index=False)"
   ]
  }
 ],
 "metadata": {
  "kernelspec": {
   "display_name": "Python 3 (ipykernel)",
   "language": "python",
   "name": "python3"
  },
  "language_info": {
   "codemirror_mode": {
    "name": "ipython",
    "version": 3
   },
   "file_extension": ".py",
   "mimetype": "text/x-python",
   "name": "python",
   "nbconvert_exporter": "python",
   "pygments_lexer": "ipython3",
   "version": "3.9.7"
  }
 },
 "nbformat": 4,
 "nbformat_minor": 5
}
