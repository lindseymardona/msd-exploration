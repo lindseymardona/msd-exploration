{
 "cells": [
  {
   "cell_type": "markdown",
   "id": "050841dc",
   "metadata": {},
   "source": [
    "**ArtistSummary Demo**"
   ]
  },
  {
   "cell_type": "code",
   "execution_count": 1,
   "id": "8f472911",
   "metadata": {},
   "outputs": [],
   "source": [
    "from ArtistSummary import ArtistSummary\n",
    "import pandas as pd"
   ]
  },
  {
   "cell_type": "markdown",
   "id": "0c14f9b7",
   "metadata": {},
   "source": [
    "Once again, we're using the cleaned Million Songs Dataset."
   ]
  },
  {
   "cell_type": "code",
   "execution_count": 2,
   "id": "71b71cc2",
   "metadata": {
    "scrolled": true
   },
   "outputs": [
    {
     "data": {
      "text/html": [
       "<div>\n",
       "<style scoped>\n",
       "    .dataframe tbody tr th:only-of-type {\n",
       "        vertical-align: middle;\n",
       "    }\n",
       "\n",
       "    .dataframe tbody tr th {\n",
       "        vertical-align: top;\n",
       "    }\n",
       "\n",
       "    .dataframe thead th {\n",
       "        text-align: right;\n",
       "    }\n",
       "</style>\n",
       "<table border=\"1\" class=\"dataframe\">\n",
       "  <thead>\n",
       "    <tr style=\"text-align: right;\">\n",
       "      <th></th>\n",
       "      <th>SongNumber</th>\n",
       "      <th>SongID</th>\n",
       "      <th>AlbumID</th>\n",
       "      <th>AlbumName</th>\n",
       "      <th>ArtistID</th>\n",
       "      <th>ArtistName</th>\n",
       "      <th>Duration</th>\n",
       "      <th>KeySignature</th>\n",
       "      <th>Tempo</th>\n",
       "      <th>TimeSignature</th>\n",
       "      <th>Title</th>\n",
       "      <th>Year</th>\n",
       "      <th>SongHotness</th>\n",
       "    </tr>\n",
       "  </thead>\n",
       "  <tbody>\n",
       "    <tr>\n",
       "      <th>0</th>\n",
       "      <td>1</td>\n",
       "      <td>SOMZWCG12A8C13C480</td>\n",
       "      <td>300848</td>\n",
       "      <td>Fear Itself</td>\n",
       "      <td>ARD7TVE1187B99BFB1</td>\n",
       "      <td>Casual</td>\n",
       "      <td>218.93179</td>\n",
       "      <td>1</td>\n",
       "      <td>92.198</td>\n",
       "      <td>4</td>\n",
       "      <td>I Didn't Mean To</td>\n",
       "      <td>0</td>\n",
       "      <td>0.602120</td>\n",
       "    </tr>\n",
       "    <tr>\n",
       "      <th>1</th>\n",
       "      <td>2</td>\n",
       "      <td>SOCIWDW12A8C13D406</td>\n",
       "      <td>300822</td>\n",
       "      <td>Dimensions</td>\n",
       "      <td>ARMJAGH1187FB546F3</td>\n",
       "      <td>The Box Tops</td>\n",
       "      <td>148.03546</td>\n",
       "      <td>6</td>\n",
       "      <td>121.274</td>\n",
       "      <td>4</td>\n",
       "      <td>Soul Deep</td>\n",
       "      <td>1969</td>\n",
       "      <td>NaN</td>\n",
       "    </tr>\n",
       "    <tr>\n",
       "      <th>2</th>\n",
       "      <td>3</td>\n",
       "      <td>SOXVLOJ12AB0189215</td>\n",
       "      <td>514953</td>\n",
       "      <td>Las Numero 1 De La Sonora Santanera</td>\n",
       "      <td>ARKRRTF1187B9984DA</td>\n",
       "      <td>Sonora Santanera</td>\n",
       "      <td>177.47546</td>\n",
       "      <td>8</td>\n",
       "      <td>100.070</td>\n",
       "      <td>1</td>\n",
       "      <td>Amor De Cabaret</td>\n",
       "      <td>0</td>\n",
       "      <td>NaN</td>\n",
       "    </tr>\n",
       "    <tr>\n",
       "      <th>3</th>\n",
       "      <td>4</td>\n",
       "      <td>SONHOTT12A8C13493C</td>\n",
       "      <td>287650</td>\n",
       "      <td>Friend Or Foe</td>\n",
       "      <td>AR7G5I41187FB4CE6C</td>\n",
       "      <td>Adam Ant</td>\n",
       "      <td>233.40363</td>\n",
       "      <td>0</td>\n",
       "      <td>119.293</td>\n",
       "      <td>4</td>\n",
       "      <td>Something Girls</td>\n",
       "      <td>1982</td>\n",
       "      <td>NaN</td>\n",
       "    </tr>\n",
       "    <tr>\n",
       "      <th>4</th>\n",
       "      <td>5</td>\n",
       "      <td>SOFSOCN12A8C143F5D</td>\n",
       "      <td>611336</td>\n",
       "      <td>Muertos Vivos</td>\n",
       "      <td>ARXR32B1187FB57099</td>\n",
       "      <td>Gob</td>\n",
       "      <td>209.60608</td>\n",
       "      <td>2</td>\n",
       "      <td>129.738</td>\n",
       "      <td>4</td>\n",
       "      <td>Face the Ashes</td>\n",
       "      <td>2007</td>\n",
       "      <td>0.604501</td>\n",
       "    </tr>\n",
       "  </tbody>\n",
       "</table>\n",
       "</div>"
      ],
      "text/plain": [
       "   SongNumber              SongID  AlbumID  \\\n",
       "0           1  SOMZWCG12A8C13C480   300848   \n",
       "1           2  SOCIWDW12A8C13D406   300822   \n",
       "2           3  SOXVLOJ12AB0189215   514953   \n",
       "3           4  SONHOTT12A8C13493C   287650   \n",
       "4           5  SOFSOCN12A8C143F5D   611336   \n",
       "\n",
       "                             AlbumName            ArtistID        ArtistName  \\\n",
       "0                          Fear Itself  ARD7TVE1187B99BFB1            Casual   \n",
       "1                           Dimensions  ARMJAGH1187FB546F3      The Box Tops   \n",
       "2  Las Numero 1 De La Sonora Santanera  ARKRRTF1187B9984DA  Sonora Santanera   \n",
       "3                        Friend Or Foe  AR7G5I41187FB4CE6C          Adam Ant   \n",
       "4                        Muertos Vivos  ARXR32B1187FB57099               Gob   \n",
       "\n",
       "    Duration  KeySignature    Tempo  TimeSignature             Title  Year  \\\n",
       "0  218.93179             1   92.198              4  I Didn't Mean To     0   \n",
       "1  148.03546             6  121.274              4         Soul Deep  1969   \n",
       "2  177.47546             8  100.070              1   Amor De Cabaret     0   \n",
       "3  233.40363             0  119.293              4   Something Girls  1982   \n",
       "4  209.60608             2  129.738              4    Face the Ashes  2007   \n",
       "\n",
       "   SongHotness  \n",
       "0     0.602120  \n",
       "1          NaN  \n",
       "2          NaN  \n",
       "3          NaN  \n",
       "4     0.604501  "
      ]
     },
     "execution_count": 2,
     "metadata": {},
     "output_type": "execute_result"
    }
   ],
   "source": [
    "msd = pd.read_csv('msd_cleaned.csv')\n",
    "msd.head()"
   ]
  },
  {
   "cell_type": "markdown",
   "id": "120370e4",
   "metadata": {},
   "source": [
    "For the purpose of demonstration, we start by retrieving the artist with the most data available. In this case, it'll be Mario Rosenstock."
   ]
  },
  {
   "cell_type": "code",
   "execution_count": 3,
   "id": "ddbedbd6",
   "metadata": {},
   "outputs": [],
   "source": [
    "a1 = msd['ArtistName'].value_counts().idxmax()"
   ]
  },
  {
   "cell_type": "markdown",
   "id": "9be859b2",
   "metadata": {},
   "source": [
    "Feeding the DataFrame and artist's name into the ArtistSummary class will result in the object containing the data for that specific artist only. We can view the data held within the object below."
   ]
  },
  {
   "cell_type": "code",
   "execution_count": 4,
   "id": "dbd16c98",
   "metadata": {
    "scrolled": true
   },
   "outputs": [
    {
     "data": {
      "text/html": [
       "<div>\n",
       "<style scoped>\n",
       "    .dataframe tbody tr th:only-of-type {\n",
       "        vertical-align: middle;\n",
       "    }\n",
       "\n",
       "    .dataframe tbody tr th {\n",
       "        vertical-align: top;\n",
       "    }\n",
       "\n",
       "    .dataframe thead th {\n",
       "        text-align: right;\n",
       "    }\n",
       "</style>\n",
       "<table border=\"1\" class=\"dataframe\">\n",
       "  <thead>\n",
       "    <tr style=\"text-align: right;\">\n",
       "      <th></th>\n",
       "      <th>SongNumber</th>\n",
       "      <th>SongID</th>\n",
       "      <th>AlbumID</th>\n",
       "      <th>AlbumName</th>\n",
       "      <th>ArtistID</th>\n",
       "      <th>ArtistName</th>\n",
       "      <th>Duration</th>\n",
       "      <th>KeySignature</th>\n",
       "      <th>Tempo</th>\n",
       "      <th>TimeSignature</th>\n",
       "      <th>Title</th>\n",
       "      <th>Year</th>\n",
       "      <th>SongHotness</th>\n",
       "    </tr>\n",
       "  </thead>\n",
       "  <tbody>\n",
       "    <tr>\n",
       "      <th>706</th>\n",
       "      <td>768</td>\n",
       "      <td>SODKPPT12A8AE46A99</td>\n",
       "      <td>281000</td>\n",
       "      <td>Gift 2</td>\n",
       "      <td>AROIHOI122988FEB8E</td>\n",
       "      <td>Mario Rosenstock</td>\n",
       "      <td>319.63383</td>\n",
       "      <td>10</td>\n",
       "      <td>79.090</td>\n",
       "      <td>3</td>\n",
       "      <td>De Tree Little Pigs</td>\n",
       "      <td>0</td>\n",
       "      <td>NaN</td>\n",
       "    </tr>\n",
       "    <tr>\n",
       "      <th>957</th>\n",
       "      <td>1051</td>\n",
       "      <td>SOIVGSZ12AB017F898</td>\n",
       "      <td>637060</td>\n",
       "      <td>Gift Grub 10 (Deluxe Edition)</td>\n",
       "      <td>AROIHOI122988FEB8E</td>\n",
       "      <td>Mario Rosenstock</td>\n",
       "      <td>250.30485</td>\n",
       "      <td>5</td>\n",
       "      <td>49.171</td>\n",
       "      <td>4</td>\n",
       "      <td>Bertie's Pets (Bonus Material)</td>\n",
       "      <td>0</td>\n",
       "      <td>NaN</td>\n",
       "    </tr>\n",
       "    <tr>\n",
       "      <th>1343</th>\n",
       "      <td>1469</td>\n",
       "      <td>SOBUAFP12A6D4F9934</td>\n",
       "      <td>49859</td>\n",
       "      <td>Gift Grub 7</td>\n",
       "      <td>AROIHOI122988FEB8E</td>\n",
       "      <td>Mario Rosenstock</td>\n",
       "      <td>44.19873</td>\n",
       "      <td>0</td>\n",
       "      <td>79.050</td>\n",
       "      <td>7</td>\n",
       "      <td>Smoke</td>\n",
       "      <td>0</td>\n",
       "      <td>0.0</td>\n",
       "    </tr>\n",
       "    <tr>\n",
       "      <th>2192</th>\n",
       "      <td>2381</td>\n",
       "      <td>SONGBCL12A8C1410C2</td>\n",
       "      <td>171941</td>\n",
       "      <td>Gift Grub 8 - The G Factor</td>\n",
       "      <td>AROIHOI122988FEB8E</td>\n",
       "      <td>Mario Rosenstock</td>\n",
       "      <td>199.57506</td>\n",
       "      <td>0</td>\n",
       "      <td>84.871</td>\n",
       "      <td>3</td>\n",
       "      <td>Paint Ball</td>\n",
       "      <td>0</td>\n",
       "      <td>NaN</td>\n",
       "    </tr>\n",
       "    <tr>\n",
       "      <th>2511</th>\n",
       "      <td>2723</td>\n",
       "      <td>SOJGVAK12A8AE46A93</td>\n",
       "      <td>281000</td>\n",
       "      <td>Gift 2</td>\n",
       "      <td>AROIHOI122988FEB8E</td>\n",
       "      <td>Mario Rosenstock</td>\n",
       "      <td>339.33016</td>\n",
       "      <td>7</td>\n",
       "      <td>84.769</td>\n",
       "      <td>5</td>\n",
       "      <td>Radio Roy II</td>\n",
       "      <td>0</td>\n",
       "      <td>NaN</td>\n",
       "    </tr>\n",
       "    <tr>\n",
       "      <th>2986</th>\n",
       "      <td>3235</td>\n",
       "      <td>SOJONVF12AB01866C3</td>\n",
       "      <td>637025</td>\n",
       "      <td>Gift Grub 10</td>\n",
       "      <td>AROIHOI122988FEB8E</td>\n",
       "      <td>Mario Rosenstock</td>\n",
       "      <td>195.70893</td>\n",
       "      <td>1</td>\n",
       "      <td>81.650</td>\n",
       "      <td>5</td>\n",
       "      <td>The Best Of Radio Roy 1 (Best of 2009)</td>\n",
       "      <td>0</td>\n",
       "      <td>NaN</td>\n",
       "    </tr>\n",
       "    <tr>\n",
       "      <th>3697</th>\n",
       "      <td>4004</td>\n",
       "      <td>SOBHBII12A6D4F9FFA</td>\n",
       "      <td>49859</td>\n",
       "      <td>Gift Grub 7</td>\n",
       "      <td>AROIHOI122988FEB8E</td>\n",
       "      <td>Mario Rosenstock</td>\n",
       "      <td>29.49179</td>\n",
       "      <td>0</td>\n",
       "      <td>126.476</td>\n",
       "      <td>5</td>\n",
       "      <td>HUM</td>\n",
       "      <td>0</td>\n",
       "      <td>NaN</td>\n",
       "    </tr>\n",
       "    <tr>\n",
       "      <th>3762</th>\n",
       "      <td>4074</td>\n",
       "      <td>SOMXQEF12AB0181AF0</td>\n",
       "      <td>637060</td>\n",
       "      <td>Gift Grub 10 (Deluxe Edition)</td>\n",
       "      <td>AROIHOI122988FEB8E</td>\n",
       "      <td>Mario Rosenstock</td>\n",
       "      <td>216.13669</td>\n",
       "      <td>1</td>\n",
       "      <td>211.688</td>\n",
       "      <td>1</td>\n",
       "      <td>Obama's Election (Best of 2009)</td>\n",
       "      <td>0</td>\n",
       "      <td>NaN</td>\n",
       "    </tr>\n",
       "    <tr>\n",
       "      <th>5491</th>\n",
       "      <td>5975</td>\n",
       "      <td>SOJYIEV12A8C130AAB</td>\n",
       "      <td>281944</td>\n",
       "      <td>Gift Grub: The Best Of 2004</td>\n",
       "      <td>AROIHOI122988FEB8E</td>\n",
       "      <td>Mario Rosenstock</td>\n",
       "      <td>361.82159</td>\n",
       "      <td>9</td>\n",
       "      <td>100.091</td>\n",
       "      <td>3</td>\n",
       "      <td>Radio Jay</td>\n",
       "      <td>0</td>\n",
       "      <td>NaN</td>\n",
       "    </tr>\n",
       "    <tr>\n",
       "      <th>6885</th>\n",
       "      <td>7506</td>\n",
       "      <td>SONZCGY12A8C1403C1</td>\n",
       "      <td>270011</td>\n",
       "      <td>Gift Grub</td>\n",
       "      <td>AROIHOI122988FEB8E</td>\n",
       "      <td>Mario Rosenstock</td>\n",
       "      <td>55.66649</td>\n",
       "      <td>5</td>\n",
       "      <td>181.731</td>\n",
       "      <td>5</td>\n",
       "      <td>Mercedes Benz</td>\n",
       "      <td>0</td>\n",
       "      <td>NaN</td>\n",
       "    </tr>\n",
       "    <tr>\n",
       "      <th>8617</th>\n",
       "      <td>9391</td>\n",
       "      <td>SOMMHHW12A6D4F9932</td>\n",
       "      <td>49859</td>\n",
       "      <td>Gift Grub 7</td>\n",
       "      <td>AROIHOI122988FEB8E</td>\n",
       "      <td>Mario Rosenstock</td>\n",
       "      <td>277.75955</td>\n",
       "      <td>2</td>\n",
       "      <td>116.052</td>\n",
       "      <td>3</td>\n",
       "      <td>The Daddy</td>\n",
       "      <td>0</td>\n",
       "      <td>NaN</td>\n",
       "    </tr>\n",
       "    <tr>\n",
       "      <th>8770</th>\n",
       "      <td>9561</td>\n",
       "      <td>SOLINYF12A8C141852</td>\n",
       "      <td>269980</td>\n",
       "      <td>Gift</td>\n",
       "      <td>AROIHOI122988FEB8E</td>\n",
       "      <td>Mario Rosenstock</td>\n",
       "      <td>136.46322</td>\n",
       "      <td>10</td>\n",
       "      <td>121.797</td>\n",
       "      <td>5</td>\n",
       "      <td>Fast Eddie</td>\n",
       "      <td>0</td>\n",
       "      <td>NaN</td>\n",
       "    </tr>\n",
       "    <tr>\n",
       "      <th>9164</th>\n",
       "      <td>9993</td>\n",
       "      <td>SOJARSR12AB0184939</td>\n",
       "      <td>637025</td>\n",
       "      <td>Gift Grub 10</td>\n",
       "      <td>AROIHOI122988FEB8E</td>\n",
       "      <td>Mario Rosenstock</td>\n",
       "      <td>187.14077</td>\n",
       "      <td>7</td>\n",
       "      <td>90.050</td>\n",
       "      <td>4</td>\n",
       "      <td>Munster Song (Best of 2009)</td>\n",
       "      <td>0</td>\n",
       "      <td>NaN</td>\n",
       "    </tr>\n",
       "  </tbody>\n",
       "</table>\n",
       "</div>"
      ],
      "text/plain": [
       "      SongNumber              SongID  AlbumID                      AlbumName  \\\n",
       "706          768  SODKPPT12A8AE46A99   281000                         Gift 2   \n",
       "957         1051  SOIVGSZ12AB017F898   637060  Gift Grub 10 (Deluxe Edition)   \n",
       "1343        1469  SOBUAFP12A6D4F9934    49859                    Gift Grub 7   \n",
       "2192        2381  SONGBCL12A8C1410C2   171941     Gift Grub 8 - The G Factor   \n",
       "2511        2723  SOJGVAK12A8AE46A93   281000                         Gift 2   \n",
       "2986        3235  SOJONVF12AB01866C3   637025                   Gift Grub 10   \n",
       "3697        4004  SOBHBII12A6D4F9FFA    49859                    Gift Grub 7   \n",
       "3762        4074  SOMXQEF12AB0181AF0   637060  Gift Grub 10 (Deluxe Edition)   \n",
       "5491        5975  SOJYIEV12A8C130AAB   281944    Gift Grub: The Best Of 2004   \n",
       "6885        7506  SONZCGY12A8C1403C1   270011                      Gift Grub   \n",
       "8617        9391  SOMMHHW12A6D4F9932    49859                    Gift Grub 7   \n",
       "8770        9561  SOLINYF12A8C141852   269980                           Gift   \n",
       "9164        9993  SOJARSR12AB0184939   637025                   Gift Grub 10   \n",
       "\n",
       "                ArtistID        ArtistName   Duration  KeySignature    Tempo  \\\n",
       "706   AROIHOI122988FEB8E  Mario Rosenstock  319.63383            10   79.090   \n",
       "957   AROIHOI122988FEB8E  Mario Rosenstock  250.30485             5   49.171   \n",
       "1343  AROIHOI122988FEB8E  Mario Rosenstock   44.19873             0   79.050   \n",
       "2192  AROIHOI122988FEB8E  Mario Rosenstock  199.57506             0   84.871   \n",
       "2511  AROIHOI122988FEB8E  Mario Rosenstock  339.33016             7   84.769   \n",
       "2986  AROIHOI122988FEB8E  Mario Rosenstock  195.70893             1   81.650   \n",
       "3697  AROIHOI122988FEB8E  Mario Rosenstock   29.49179             0  126.476   \n",
       "3762  AROIHOI122988FEB8E  Mario Rosenstock  216.13669             1  211.688   \n",
       "5491  AROIHOI122988FEB8E  Mario Rosenstock  361.82159             9  100.091   \n",
       "6885  AROIHOI122988FEB8E  Mario Rosenstock   55.66649             5  181.731   \n",
       "8617  AROIHOI122988FEB8E  Mario Rosenstock  277.75955             2  116.052   \n",
       "8770  AROIHOI122988FEB8E  Mario Rosenstock  136.46322            10  121.797   \n",
       "9164  AROIHOI122988FEB8E  Mario Rosenstock  187.14077             7   90.050   \n",
       "\n",
       "      TimeSignature                                   Title  Year  SongHotness  \n",
       "706               3                     De Tree Little Pigs     0          NaN  \n",
       "957               4          Bertie's Pets (Bonus Material)     0          NaN  \n",
       "1343              7                                   Smoke     0          0.0  \n",
       "2192              3                              Paint Ball     0          NaN  \n",
       "2511              5                            Radio Roy II     0          NaN  \n",
       "2986              5  The Best Of Radio Roy 1 (Best of 2009)     0          NaN  \n",
       "3697              5                                     HUM     0          NaN  \n",
       "3762              1         Obama's Election (Best of 2009)     0          NaN  \n",
       "5491              3                               Radio Jay     0          NaN  \n",
       "6885              5                           Mercedes Benz     0          NaN  \n",
       "8617              3                               The Daddy     0          NaN  \n",
       "8770              5                              Fast Eddie     0          NaN  \n",
       "9164              4             Munster Song (Best of 2009)     0          NaN  "
      ]
     },
     "execution_count": 4,
     "metadata": {},
     "output_type": "execute_result"
    }
   ],
   "source": [
    "as1 = ArtistSummary(msd, a1)\n",
    "as1.df"
   ]
  },
  {
   "cell_type": "markdown",
   "id": "702cc0b4",
   "metadata": {},
   "source": [
    "summary() will output a summary of the artist's information and statistics. Smoke has 'N/A' in parentheses because there is no year information for his song 'Smoke'."
   ]
  },
  {
   "cell_type": "code",
   "execution_count": 5,
   "id": "2978e822",
   "metadata": {},
   "outputs": [
    {
     "name": "stdout",
     "output_type": "stream",
     "text": [
      "Artist name: Mario Rosenstock\n",
      "Artist ID: AROIHOI122988FEB8E\n",
      "Average song duration: 201.02\n",
      "Average song tempo: 108.19\n",
      "Hottest song: Smoke (N/A)\n"
     ]
    },
    {
     "name": "stderr",
     "output_type": "stream",
     "text": [
      "C:\\Users\\linds\\anaconda3\\lib\\site-packages\\pandas\\core\\series.py:1056: SettingWithCopyWarning: \n",
      "A value is trying to be set on a copy of a slice from a DataFrame\n",
      "\n",
      "See the caveats in the documentation: https://pandas.pydata.org/pandas-docs/stable/user_guide/indexing.html#returning-a-view-versus-a-copy\n",
      "  cacher_needs_updating = self._check_is_chained_assignment_possible()\n"
     ]
    }
   ],
   "source": [
    "as1.summary()"
   ]
  },
  {
   "cell_type": "markdown",
   "id": "4d98ecdd",
   "metadata": {},
   "source": [
    "activity() should summarize the artist's activity per year (how many songs were released). However, Mario Rosenstock has no information within the dataset regarding the years his songs were released. Thus, an error will be raised."
   ]
  },
  {
   "cell_type": "code",
   "execution_count": 6,
   "id": "9c260822",
   "metadata": {},
   "outputs": [
    {
     "data": {
      "text/plain": [
       "'Error: No year data available.'"
      ]
     },
     "execution_count": 6,
     "metadata": {},
     "output_type": "execute_result"
    }
   ],
   "source": [
    "as1.activity()"
   ]
  },
  {
   "cell_type": "markdown",
   "id": "4d21f28c",
   "metadata": {},
   "source": [
    "Let's look at a second artist, Sonora Santanera."
   ]
  },
  {
   "cell_type": "code",
   "execution_count": 7,
   "id": "a7f93f6a",
   "metadata": {},
   "outputs": [
    {
     "name": "stdout",
     "output_type": "stream",
     "text": [
      "Artist name: Sonora Santanera\n",
      "Artist ID: ARKRRTF1187B9984DA\n",
      "Average song duration: 165.3\n",
      "Average song tempo: 99.54\n",
      "Error: No song hotness data available.\n"
     ]
    }
   ],
   "source": [
    "a2 = 'Sonora Santanera'\n",
    "as2 = ArtistSummary(msd, a2)\n",
    "as2.summary()"
   ]
  },
  {
   "cell_type": "markdown",
   "id": "67413a8d",
   "metadata": {},
   "source": [
    "This time, an error is raised while trying to find the artist's hottest song. It seems that there's no information for that available. The third time's a charm, though. Let's look at one more artist: Rick Astley."
   ]
  },
  {
   "cell_type": "code",
   "execution_count": 8,
   "id": "1c3b8e1e",
   "metadata": {
    "scrolled": true
   },
   "outputs": [
    {
     "name": "stdout",
     "output_type": "stream",
     "text": [
      "Artist name: Rick Astley\n",
      "Artist ID: ARWPYQI1187FB4D55A\n",
      "Average song duration: 224.46\n",
      "Average song tempo: 125.44\n",
      "Hottest song: Never Gonna Give You Up (1987)\n"
     ]
    }
   ],
   "source": [
    "a3 = 'Rick Astley'\n",
    "as3 = ArtistSummary(msd, a3)\n",
    "as3.summary()"
   ]
  },
  {
   "cell_type": "markdown",
   "id": "c8eb946e",
   "metadata": {},
   "source": [
    "Now we can see the activity() method's functionality. It tells us which year the artist made the most songs, which year the artist made the least songs, and creates a visualization that shows us how many songs the artist created for each year there is data for within the DataFrame."
   ]
  },
  {
   "cell_type": "code",
   "execution_count": 9,
   "id": "27e92868",
   "metadata": {
    "scrolled": true
   },
   "outputs": [
    {
     "name": "stdout",
     "output_type": "stream",
     "text": [
      "Rick Astley made the least songs in 1993.\n",
      "Rick Astley made the most songs in 2005.\n"
     ]
    },
    {
     "data": {
      "image/png": "[encoded data removed]",
      "text/plain": [
       "<Figure size 1800x864 with 1 Axes>"
      ]
     },
     "metadata": {
      "needs_background": "light"
     },
     "output_type": "display_data"
    }
   ],
   "source": [
    "as3.activity()"
   ]
  },
  {
   "cell_type": "markdown",
   "id": "bbffeeb7",
   "metadata": {},
   "source": [
    "Finally, let's try to do this with an artist that has no data in the DataFrame. Let's take Katy Perry, for example."
   ]
  },
  {
   "cell_type": "code",
   "execution_count": 10,
   "id": "6b192580",
   "metadata": {},
   "outputs": [
    {
     "name": "stdout",
     "output_type": "stream",
     "text": [
      "Error: DataFrame is empty.\n"
     ]
    }
   ],
   "source": [
    "a4 = 'Katy Perry'\n",
    "as4 = ArtistSummary(msd, a4)"
   ]
  },
  {
   "cell_type": "markdown",
   "id": "71a97a70",
   "metadata": {},
   "source": [
    "Because the DataFrame created when filtering for Katy Perry's songs is empty, there is an error. The object is not created."
   ]
  }
 ],
 "metadata": {
  "kernelspec": {
   "display_name": "Python 3 (ipykernel)",
   "language": "python",
   "name": "python3"
  },
  "language_info": {
   "codemirror_mode": {
    "name": "ipython",
    "version": 3
   },
   "file_extension": ".py",
   "mimetype": "text/x-python",
   "name": "python",
   "nbconvert_exporter": "python",
   "pygments_lexer": "ipython3",
   "version": "3.9.7"
  }
 },
 "nbformat": 4,
 "nbformat_minor": 5
}
